{
 "cells": [
  {
   "cell_type": "code",
   "execution_count": null,
   "metadata": {},
   "outputs": [],
   "source": [
    "%matplotlib notebook\n",
    "import numpy as np\n",
    "from scipy import stats\n",
    "import pandas as pd\n",
    "from matplotlib import pyplot as plt\n",
    "import xarray as xr\n",
    "import matplotlib.colors\n",
    "import datetime\n",
    "import os"
   ]
  },
  {
   "cell_type": "code",
   "execution_count": 1,
   "metadata": {},
   "outputs": [],
   "source": [
    "def adcp_data_merge(equipment, year):\n",
    "    path = 'Data/SWC001/' + str(equipment) + '/' + str(year) + '/' + '21m/'\n",
    "    files = os.listdir(path)\n",
    "    file_len = list(range(1, len(files)))\n",
    "    df1 = pd.read_csv((str(path) + str(files[0])), na_values = 9999, skiprows = 1, delimiter=' ', header = None, parse_dates=[[0,1]])\n",
    "    for val in file_len:\n",
    "        df2 = pd.read_csv((str(path) + str(files[val])), na_values = 9999, skiprows = 1, delimiter=' ', header = None, parse_dates=[[0,1]])\n",
    "        df1 = df1.append(df2, ignore_index=True)\n",
    "    df1 = df1.rename(columns = {'0_1':'date_time', 2:'yearday', 3:'height', 4:'depth', 5:'waterdepth', 6:'temp_c', 7:'pressure', 8:'intensity'\n",
    "                         , 9:'data_quality', 10:'eastward', 11:'northward', 12:'upwards', 13:'errorvelocity', 14:'flag', 15:'unknown'})\n",
    "    df1 = df1.drop(columns=['unknown'])\n",
    "    return df1"
   ]
  },
  {
   "cell_type": "code",
   "execution_count": null,
   "metadata": {},
   "outputs": [],
   "source": [
    "df = adcp_data_merge('ADCP', 2000)\n",
    "df"
   ]
  }
 ],
 "metadata": {
  "kernelspec": {
   "display_name": "Python 3",
   "language": "python",
   "name": "python3"
  },
  "language_info": {
   "codemirror_mode": {
    "name": "ipython",
    "version": 3
   },
   "file_extension": ".py",
   "mimetype": "text/x-python",
   "name": "python",
   "nbconvert_exporter": "python",
   "pygments_lexer": "ipython3",
   "version": "3.8.5"
  }
 },
 "nbformat": 4,
 "nbformat_minor": 4
}
